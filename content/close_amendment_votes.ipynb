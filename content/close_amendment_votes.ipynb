{
  "metadata": {
    "kernelspec": {
      "name": "python",
      "display_name": "Python (Pyodide)",
      "language": "python"
    },
    "language_info": {
      "codemirror_mode": {
        "name": "python",
        "version": 3
      },
      "file_extension": ".py",
      "mimetype": "text/x-python",
      "name": "python",
      "nbconvert_exporter": "python",
      "pygments_lexer": "ipython3",
      "version": "3.8"
    },
    "colab": {
      "provenance": [],
      "toc_visible": true
    }
  },
  "nbformat_minor": 4,
  "nbformat": 4,
  "cells": [
    {
      "cell_type": "markdown",
      "source": "# Identifying Close Votes on Amendments\n\nIn this tutorial we will learn how to identify amendments that were adopted or rejected with a very close majority using the HowTheyVote.eu data set. Amendments that are either passed or rejected with a close margin are probable to have some amount of controversy about their contents. Identifying those can be a first step in finding interesting debates in Parliament.\n\nTo follow allong with the tutorial, you should already be familiar with data analysis in Python using `pandas`. You don’t need prior knowledge about the European Parliament.\n",
      "metadata": {
        "id": "BO2vOh8UMOmf"
      }
    },
    {
      "cell_type": "markdown",
      "source": "## Context: Amendments in the European Parliament\n\nBefore a text becomes the official position of the European Parliament, the Parliament's Plenary must vote on it.\n\nUsually, Members of Parliament hold multiple votes on a text, due to the process with which Parliaments position is established. At different points in this process, committees and political groups of the Parliament can propose amendments to texts. Each amendment proposes one or many changes to the original document, either exchanging, removing, or adding content. The Plenary then votes on all amendments, either adopting or rejecting them.\n\nOnce the Plenary has decided on all amendments, it votes on the final wording of the text. If the majority approves the text, it becomes the official position of the European Parliament. If not, the text is rejected.",
      "metadata": {
        "id": "PQRf2gM3Iyh_"
      }
    },
    {
      "cell_type": "markdown",
      "source": "## Finding all Votes on a Specific Text\n\nThroughout this tutorial, we will use Parliaments resolution condemning [The Russian aggression against Ukraine](https://howtheyvote.eu/votes/140111) from March 2022.\n\nAs a first step, we need the `votes` table from the HowTheyVote.eu data set:",
      "metadata": {
        "id": "ljA_CkomH1qx"
      }
    },
    {
      "cell_type": "code",
      "source": "import pandas as pd\n\nvotes_df = pd.read_csv('data/votes.csv')\nvotes_df.head()",
      "metadata": {
        "id": "da7W2nn-MLX3",
        "trusted": true
      },
      "outputs": [
        {
          "execution_count": 5,
          "output_type": "execute_result",
          "data": {
            "text/plain": "       id            timestamp                            display_title  \\\n0  108425  2019-07-15 17:09:37        Mardi - demande du groupe GUE/NGL   \n1  108530  2019-07-18 11:30:02               The situation in Venezuela   \n2  108531  2019-07-18 11:30:16               The situation in Venezuela   \n3  108532  2019-07-18 11:30:30               The situation in Venezuela   \n4  108533  2019-07-18 11:24:18  The situation at the USA-Mexican border   \n\n         reference description  is_main  is_featured procedure_reference  \\\n0              NaN         NaN    False        False                 NaN   \n1  RC-B9-0006/2019       § 2/1    False        False      2019/2730(RSP)   \n2  RC-B9-0006/2019       § 2/2    False        False      2019/2730(RSP)   \n3  RC-B9-0006/2019  Résolution     True         True      2019/2730(RSP)   \n4  RC-B9-0014/2019        § 13    False        False      2019/2733(RSP)   \n\n                           procedure_title responsible_committee_code  \\\n0                                      NaN                        NaN   \n1               The situation in Venezuela                        NaN   \n2               The situation in Venezuela                        NaN   \n3               The situation in Venezuela                        NaN   \n4  The situation at the USA-Mexican border                        NaN   \n\n   count_for  count_against  count_abstention  count_did_not_vote  \n0         83            142                72                 454  \n1        506             58                70                 117  \n2        414            184                51                 102  \n3        455             85               105                 106  \n4        311            269                33                 138  ",
            "text/html": "<div>\n<style scoped>\n    .dataframe tbody tr th:only-of-type {\n        vertical-align: middle;\n    }\n\n    .dataframe tbody tr th {\n        vertical-align: top;\n    }\n\n    .dataframe thead th {\n        text-align: right;\n    }\n</style>\n<table border=\"1\" class=\"dataframe\">\n  <thead>\n    <tr style=\"text-align: right;\">\n      <th></th>\n      <th>id</th>\n      <th>timestamp</th>\n      <th>display_title</th>\n      <th>reference</th>\n      <th>description</th>\n      <th>is_main</th>\n      <th>is_featured</th>\n      <th>procedure_reference</th>\n      <th>procedure_title</th>\n      <th>responsible_committee_code</th>\n      <th>count_for</th>\n      <th>count_against</th>\n      <th>count_abstention</th>\n      <th>count_did_not_vote</th>\n    </tr>\n  </thead>\n  <tbody>\n    <tr>\n      <th>0</th>\n      <td>108425</td>\n      <td>2019-07-15 17:09:37</td>\n      <td>Mardi - demande du groupe GUE/NGL</td>\n      <td>NaN</td>\n      <td>NaN</td>\n      <td>False</td>\n      <td>False</td>\n      <td>NaN</td>\n      <td>NaN</td>\n      <td>NaN</td>\n      <td>83</td>\n      <td>142</td>\n      <td>72</td>\n      <td>454</td>\n    </tr>\n    <tr>\n      <th>1</th>\n      <td>108530</td>\n      <td>2019-07-18 11:30:02</td>\n      <td>The situation in Venezuela</td>\n      <td>RC-B9-0006/2019</td>\n      <td>§ 2/1</td>\n      <td>False</td>\n      <td>False</td>\n      <td>2019/2730(RSP)</td>\n      <td>The situation in Venezuela</td>\n      <td>NaN</td>\n      <td>506</td>\n      <td>58</td>\n      <td>70</td>\n      <td>117</td>\n    </tr>\n    <tr>\n      <th>2</th>\n      <td>108531</td>\n      <td>2019-07-18 11:30:16</td>\n      <td>The situation in Venezuela</td>\n      <td>RC-B9-0006/2019</td>\n      <td>§ 2/2</td>\n      <td>False</td>\n      <td>False</td>\n      <td>2019/2730(RSP)</td>\n      <td>The situation in Venezuela</td>\n      <td>NaN</td>\n      <td>414</td>\n      <td>184</td>\n      <td>51</td>\n      <td>102</td>\n    </tr>\n    <tr>\n      <th>3</th>\n      <td>108532</td>\n      <td>2019-07-18 11:30:30</td>\n      <td>The situation in Venezuela</td>\n      <td>RC-B9-0006/2019</td>\n      <td>Résolution</td>\n      <td>True</td>\n      <td>True</td>\n      <td>2019/2730(RSP)</td>\n      <td>The situation in Venezuela</td>\n      <td>NaN</td>\n      <td>455</td>\n      <td>85</td>\n      <td>105</td>\n      <td>106</td>\n    </tr>\n    <tr>\n      <th>4</th>\n      <td>108533</td>\n      <td>2019-07-18 11:24:18</td>\n      <td>The situation at the USA-Mexican border</td>\n      <td>RC-B9-0014/2019</td>\n      <td>§ 13</td>\n      <td>False</td>\n      <td>False</td>\n      <td>2019/2733(RSP)</td>\n      <td>The situation at the USA-Mexican border</td>\n      <td>NaN</td>\n      <td>311</td>\n      <td>269</td>\n      <td>33</td>\n      <td>138</td>\n    </tr>\n  </tbody>\n</table>\n</div>"
          },
          "metadata": {}
        }
      ],
      "execution_count": 5
    },
    {
      "cell_type": "markdown",
      "source": "The `votes` table contains one row for each vote that takes place in the Plenary. Therefore, there might be multiple rows for a given text. There are multiple fields in the `votes` table that we could use to identify all votes that belong to the same report, but we advise to use the `reference` column. It contains the official document reference for the report used by the Parliament.\n\n",
      "metadata": {
        "id": "UjDAJvApMrLx"
      }
    },
    {
      "cell_type": "code",
      "source": "report_subset = votes_df[votes_df['reference'] == 'B9-0123/2022'].copy()\nreport_subset.head()",
      "metadata": {
        "id": "lpF8_Ig0MYOd",
        "trusted": true
      },
      "outputs": [
        {
          "execution_count": 11,
          "output_type": "execute_result",
          "data": {
            "text/plain": "           id            timestamp                           display_title  \\\n11962  140082  2022-03-01 13:49:54  The Russian aggression against Ukraine   \n11963  140083  2022-03-01 13:49:54  The Russian aggression against Ukraine   \n11964  140084  2022-03-01 13:49:54  The Russian aggression against Ukraine   \n11965  140085  2022-03-01 13:49:54  The Russian aggression against Ukraine   \n11966  140086  2022-03-01 13:49:54  The Russian aggression against Ukraine   \n\n          reference            description  is_main  is_featured  \\\n11962  B9-0123/2022             § 3 - Am 4    False        False   \n11963  B9-0123/2022    Après le § 5 - Am 5    False        False   \n11964  B9-0123/2022    Après le § 9 - Am 6    False        False   \n11965  B9-0123/2022  Après le § 11 - Am 22    False        False   \n11966  B9-0123/2022  Après le § 11 - Am 23    False        False   \n\n      procedure_reference                         procedure_title  \\\n11962      2022/2564(RSP)  The Russian aggression against Ukraine   \n11963      2022/2564(RSP)  The Russian aggression against Ukraine   \n11964      2022/2564(RSP)  The Russian aggression against Ukraine   \n11965      2022/2564(RSP)  The Russian aggression against Ukraine   \n11966      2022/2564(RSP)  The Russian aggression against Ukraine   \n\n      responsible_committee_code  count_for  count_against  count_abstention  \\\n11962                        NaN        269            396                12   \n11963                        NaN        450            171                64   \n11964                        NaN        264            365                57   \n11965                        NaN        323            342                19   \n11966                        NaN        284            374                25   \n\n       count_did_not_vote  \n11962                  28  \n11963                  20  \n11964                  19  \n11965                  21  \n11966                  22  ",
            "text/html": "<div>\n<style scoped>\n    .dataframe tbody tr th:only-of-type {\n        vertical-align: middle;\n    }\n\n    .dataframe tbody tr th {\n        vertical-align: top;\n    }\n\n    .dataframe thead th {\n        text-align: right;\n    }\n</style>\n<table border=\"1\" class=\"dataframe\">\n  <thead>\n    <tr style=\"text-align: right;\">\n      <th></th>\n      <th>id</th>\n      <th>timestamp</th>\n      <th>display_title</th>\n      <th>reference</th>\n      <th>description</th>\n      <th>is_main</th>\n      <th>is_featured</th>\n      <th>procedure_reference</th>\n      <th>procedure_title</th>\n      <th>responsible_committee_code</th>\n      <th>count_for</th>\n      <th>count_against</th>\n      <th>count_abstention</th>\n      <th>count_did_not_vote</th>\n    </tr>\n  </thead>\n  <tbody>\n    <tr>\n      <th>11962</th>\n      <td>140082</td>\n      <td>2022-03-01 13:49:54</td>\n      <td>The Russian aggression against Ukraine</td>\n      <td>B9-0123/2022</td>\n      <td>§ 3 - Am 4</td>\n      <td>False</td>\n      <td>False</td>\n      <td>2022/2564(RSP)</td>\n      <td>The Russian aggression against Ukraine</td>\n      <td>NaN</td>\n      <td>269</td>\n      <td>396</td>\n      <td>12</td>\n      <td>28</td>\n    </tr>\n    <tr>\n      <th>11963</th>\n      <td>140083</td>\n      <td>2022-03-01 13:49:54</td>\n      <td>The Russian aggression against Ukraine</td>\n      <td>B9-0123/2022</td>\n      <td>Après le § 5 - Am 5</td>\n      <td>False</td>\n      <td>False</td>\n      <td>2022/2564(RSP)</td>\n      <td>The Russian aggression against Ukraine</td>\n      <td>NaN</td>\n      <td>450</td>\n      <td>171</td>\n      <td>64</td>\n      <td>20</td>\n    </tr>\n    <tr>\n      <th>11964</th>\n      <td>140084</td>\n      <td>2022-03-01 13:49:54</td>\n      <td>The Russian aggression against Ukraine</td>\n      <td>B9-0123/2022</td>\n      <td>Après le § 9 - Am 6</td>\n      <td>False</td>\n      <td>False</td>\n      <td>2022/2564(RSP)</td>\n      <td>The Russian aggression against Ukraine</td>\n      <td>NaN</td>\n      <td>264</td>\n      <td>365</td>\n      <td>57</td>\n      <td>19</td>\n    </tr>\n    <tr>\n      <th>11965</th>\n      <td>140085</td>\n      <td>2022-03-01 13:49:54</td>\n      <td>The Russian aggression against Ukraine</td>\n      <td>B9-0123/2022</td>\n      <td>Après le § 11 - Am 22</td>\n      <td>False</td>\n      <td>False</td>\n      <td>2022/2564(RSP)</td>\n      <td>The Russian aggression against Ukraine</td>\n      <td>NaN</td>\n      <td>323</td>\n      <td>342</td>\n      <td>19</td>\n      <td>21</td>\n    </tr>\n    <tr>\n      <th>11966</th>\n      <td>140086</td>\n      <td>2022-03-01 13:49:54</td>\n      <td>The Russian aggression against Ukraine</td>\n      <td>B9-0123/2022</td>\n      <td>Après le § 11 - Am 23</td>\n      <td>False</td>\n      <td>False</td>\n      <td>2022/2564(RSP)</td>\n      <td>The Russian aggression against Ukraine</td>\n      <td>NaN</td>\n      <td>284</td>\n      <td>374</td>\n      <td>25</td>\n      <td>22</td>\n    </tr>\n  </tbody>\n</table>\n</div>"
          },
          "metadata": {}
        }
      ],
      "execution_count": 11
    },
    {
      "cell_type": "code",
      "source": "len(report_subset)",
      "metadata": {
        "id": "yH8JYjMuOdUE",
        "trusted": true
      },
      "outputs": [
        {
          "execution_count": 12,
          "output_type": "execute_result",
          "data": {
            "text/plain": "77"
          },
          "metadata": {}
        }
      ],
      "execution_count": 12
    },
    {
      "cell_type": "markdown",
      "source": "77 plenary votes took place concerned with this specific resolution. From the  `description` field, we can get a (very basic) first glance which part of the report each amendment targeted: For example, \"§ 3 - Am 4\" means that Amendment 4 contained changes to § 3 of the resolution.",
      "metadata": {
        "id": "_gEWmkO4OzZ6"
      }
    },
    {
      "cell_type": "markdown",
      "source": "As mentioned in the very beginning, after decising on the amendments, the final text will usually be voted on. This is indicated in our data schame by the `is_main` column. Therefore, the following will retrieve the vote on the final, unified version of the report:",
      "metadata": {
        "id": "GvAkKulQQC2h"
      }
    },
    {
      "cell_type": "code",
      "source": "report_subset[report_subset['is_main'] == True]",
      "metadata": {
        "id": "AWStjKkHOqh2",
        "trusted": true
      },
      "outputs": [
        {
          "execution_count": 13,
          "output_type": "execute_result",
          "data": {
            "text/plain": "           id            timestamp                           display_title  \\\n11990  140111  2022-03-01 16:48:54  The Russian aggression against Ukraine   \n\n          reference                                    description  is_main  \\\n11990  B9-0123/2022  Proposition de résolution (ensemble du texte)     True   \n\n       is_featured procedure_reference  \\\n11990         True      2022/2564(RSP)   \n\n                              procedure_title responsible_committee_code  \\\n11990  The Russian aggression against Ukraine                        NaN   \n\n       count_for  count_against  count_abstention  count_did_not_vote  \n11990        637             13                26                  29  ",
            "text/html": "<div>\n<style scoped>\n    .dataframe tbody tr th:only-of-type {\n        vertical-align: middle;\n    }\n\n    .dataframe tbody tr th {\n        vertical-align: top;\n    }\n\n    .dataframe thead th {\n        text-align: right;\n    }\n</style>\n<table border=\"1\" class=\"dataframe\">\n  <thead>\n    <tr style=\"text-align: right;\">\n      <th></th>\n      <th>id</th>\n      <th>timestamp</th>\n      <th>display_title</th>\n      <th>reference</th>\n      <th>description</th>\n      <th>is_main</th>\n      <th>is_featured</th>\n      <th>procedure_reference</th>\n      <th>procedure_title</th>\n      <th>responsible_committee_code</th>\n      <th>count_for</th>\n      <th>count_against</th>\n      <th>count_abstention</th>\n      <th>count_did_not_vote</th>\n    </tr>\n  </thead>\n  <tbody>\n    <tr>\n      <th>11990</th>\n      <td>140111</td>\n      <td>2022-03-01 16:48:54</td>\n      <td>The Russian aggression against Ukraine</td>\n      <td>B9-0123/2022</td>\n      <td>Proposition de résolution (ensemble du texte)</td>\n      <td>True</td>\n      <td>True</td>\n      <td>2022/2564(RSP)</td>\n      <td>The Russian aggression against Ukraine</td>\n      <td>NaN</td>\n      <td>637</td>\n      <td>13</td>\n      <td>26</td>\n      <td>29</td>\n    </tr>\n  </tbody>\n</table>\n</div>"
          },
          "metadata": {}
        }
      ],
      "execution_count": 13
    },
    {
      "cell_type": "markdown",
      "source": "## Identifying Votes With a Close Margin",
      "metadata": {
        "id": "bLnTFrV8JX7n"
      }
    },
    {
      "cell_type": "markdown",
      "source": "In the columns `count_for`, `count_against`, `count_abstention`, and `count_did_not_vote` we can see the number of Members of Parliament (MEP) who voted in a specific way on the entirety of this text or who did not partook in the vote. In contrast to not voting at all, MEPs also have the option to actively vote abstain in each vote.",
      "metadata": {
        "id": "CKEayYaDLFW_"
      }
    },
    {
      "cell_type": "code",
      "source": "report_subset[report_subset['is_main'] == True][['reference'] + report_subset.filter(regex='^count').columns.tolist()]",
      "metadata": {
        "id": "2s9tVr2mJjbg",
        "trusted": true
      },
      "outputs": [
        {
          "execution_count": 14,
          "output_type": "execute_result",
          "data": {
            "text/plain": "          reference  count_for  count_against  count_abstention  \\\n11990  B9-0123/2022        637             13                26   \n\n       count_did_not_vote  \n11990                  29  ",
            "text/html": "<div>\n<style scoped>\n    .dataframe tbody tr th:only-of-type {\n        vertical-align: middle;\n    }\n\n    .dataframe tbody tr th {\n        vertical-align: top;\n    }\n\n    .dataframe thead th {\n        text-align: right;\n    }\n</style>\n<table border=\"1\" class=\"dataframe\">\n  <thead>\n    <tr style=\"text-align: right;\">\n      <th></th>\n      <th>reference</th>\n      <th>count_for</th>\n      <th>count_against</th>\n      <th>count_abstention</th>\n      <th>count_did_not_vote</th>\n    </tr>\n  </thead>\n  <tbody>\n    <tr>\n      <th>11990</th>\n      <td>B9-0123/2022</td>\n      <td>637</td>\n      <td>13</td>\n      <td>26</td>\n      <td>29</td>\n    </tr>\n  </tbody>\n</table>\n</div>"
          },
          "metadata": {}
        }
      ],
      "execution_count": 14
    },
    {
      "cell_type": "markdown",
      "source": "Note, that this does not give us any information about which specific MEPs voted in which way.",
      "metadata": {
        "id": "c8dUButsLy6h"
      }
    },
    {
      "cell_type": "markdown",
      "source": "In order to identify the amendments that got accepted or rejected with a very close margin, we are interested in the difference between votes in favour and votes against. Note, that we calculate this on the basis of a simple majority in this tutorial, i.e., as long as more MEPs voted in favor than against an amendment, it is accepted. This is always true for amendments regarding resolutions.\n\nIn cases where an amendment was accepted, this difference will be a positive number (as the number of votes in favour will be larger then that of votes against). However, when amendments are narrowly rejected, the opposite will be true, resulting in a negative number for the difference.\n\nAs we are interested in narrow decisions in general, we will use the absolute difference between votes in favour and against.",
      "metadata": {
        "id": "mHPsBVfxlCQp"
      }
    },
    {
      "cell_type": "code",
      "source": "report_subset['abs_diff_for_against'] = (report_subset['count_for'] - report_subset['count_against']).abs()\nreport_subset[['reference', 'description', 'is_main', 'abs_diff_for_against']].sort_values(by='abs_diff_for_against').head(10)",
      "metadata": {
        "id": "K8gWLtuZk3h-",
        "trusted": true
      },
      "outputs": [
        {
          "execution_count": 15,
          "output_type": "execute_result",
          "data": {
            "text/plain": "          reference                    description  is_main  \\\n11965  B9-0123/2022          Après le § 11 - Am 22    False   \n11995  B9-0123/2022                 § 13 - Am 29/2    False   \n11989  B9-0123/2022  Après le considérant E - Am 3    False   \n11987  B9-0123/2022  Après le considérant D - Am 1    False   \n11966  B9-0123/2022          Après le § 11 - Am 23    False   \n11964  B9-0123/2022            Après le § 9 - Am 6    False   \n11962  B9-0123/2022                     § 3 - Am 4    False   \n11986  B9-0123/2022          Après le § 45 - Am 28    False   \n11983  B9-0123/2022          Après le § 37 - Am 21    False   \n11975  B9-0123/2022                    § 19 - Am 9    False   \n\n       abs_diff_for_against  \n11965                    19  \n11995                    22  \n11989                    32  \n11987                    37  \n11966                    90  \n11964                   101  \n11962                   127  \n11986                   255  \n11983                   260  \n11975                   270  ",
            "text/html": "<div>\n<style scoped>\n    .dataframe tbody tr th:only-of-type {\n        vertical-align: middle;\n    }\n\n    .dataframe tbody tr th {\n        vertical-align: top;\n    }\n\n    .dataframe thead th {\n        text-align: right;\n    }\n</style>\n<table border=\"1\" class=\"dataframe\">\n  <thead>\n    <tr style=\"text-align: right;\">\n      <th></th>\n      <th>reference</th>\n      <th>description</th>\n      <th>is_main</th>\n      <th>abs_diff_for_against</th>\n    </tr>\n  </thead>\n  <tbody>\n    <tr>\n      <th>11965</th>\n      <td>B9-0123/2022</td>\n      <td>Après le § 11 - Am 22</td>\n      <td>False</td>\n      <td>19</td>\n    </tr>\n    <tr>\n      <th>11995</th>\n      <td>B9-0123/2022</td>\n      <td>§ 13 - Am 29/2</td>\n      <td>False</td>\n      <td>22</td>\n    </tr>\n    <tr>\n      <th>11989</th>\n      <td>B9-0123/2022</td>\n      <td>Après le considérant E - Am 3</td>\n      <td>False</td>\n      <td>32</td>\n    </tr>\n    <tr>\n      <th>11987</th>\n      <td>B9-0123/2022</td>\n      <td>Après le considérant D - Am 1</td>\n      <td>False</td>\n      <td>37</td>\n    </tr>\n    <tr>\n      <th>11966</th>\n      <td>B9-0123/2022</td>\n      <td>Après le § 11 - Am 23</td>\n      <td>False</td>\n      <td>90</td>\n    </tr>\n    <tr>\n      <th>11964</th>\n      <td>B9-0123/2022</td>\n      <td>Après le § 9 - Am 6</td>\n      <td>False</td>\n      <td>101</td>\n    </tr>\n    <tr>\n      <th>11962</th>\n      <td>B9-0123/2022</td>\n      <td>§ 3 - Am 4</td>\n      <td>False</td>\n      <td>127</td>\n    </tr>\n    <tr>\n      <th>11986</th>\n      <td>B9-0123/2022</td>\n      <td>Après le § 45 - Am 28</td>\n      <td>False</td>\n      <td>255</td>\n    </tr>\n    <tr>\n      <th>11983</th>\n      <td>B9-0123/2022</td>\n      <td>Après le § 37 - Am 21</td>\n      <td>False</td>\n      <td>260</td>\n    </tr>\n    <tr>\n      <th>11975</th>\n      <td>B9-0123/2022</td>\n      <td>§ 19 - Am 9</td>\n      <td>False</td>\n      <td>270</td>\n    </tr>\n  </tbody>\n</table>\n</div>"
          },
          "metadata": {}
        }
      ],
      "execution_count": 15
    },
    {
      "cell_type": "markdown",
      "source": "The closest amendment had an absolute difference of 19 votes against versus votes in favour. Although this seems not extremely close, we can also see a substantive difference between the first four votes, which all have margins below 40, and the following ones, which are close to differences of 100 votes and more.\n\n## Wrapping Up\n\nIdentifying these close amendments can be a good starting point to figure out which parts of a text were most controversial in Parliament. Using the `votes` table, those can be identified quite fast, by finding all votes corresponding to a specific text and afterwards finding the narrowest of these decisions.\n\nWith this information in hand it is now possible to continue with substantive research on the specific amendments, or to take a look at which MEPs and groups voted which way.",
      "metadata": {
        "id": "fANPqkNvpWKB"
      }
    }
  ]
}