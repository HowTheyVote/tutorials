{
  "cells": [
    {
      "cell_type": "markdown",
      "metadata": {
        "id": "BO2vOh8UMOmf"
      },
      "source": [
        "# Identifying Close Votes on Amendments\n",
        "\n",
        "In this tutorial, we will learn how to identify amendments that were adopted or rejected with a very close majority using the HowTheyVote.eu data set. Amendments that are either passed or rejected with a close margin are probable to have some amount of controversy about their contents. Identifying those can be a first step in finding interesting debates in Parliament.\n",
        "\n",
        "To follow allong with the tutorial, you should already be familiar with data analysis in Python using the `pandas` package. You don’t need prior knowledge about the European Parliament.\n"
      ]
    },
    {
      "cell_type": "markdown",
      "metadata": {
        "id": "PQRf2gM3Iyh_"
      },
      "source": [
        "## Context: Amendments in the European Parliament\n",
        "\n",
        "Before a text becomes the official position of the European Parliament, the Parliament's Plenary must vote on it.\n",
        "\n",
        "Members of the European Parliament (MEPs) usually hold multiple votes on a single text as part of the process of establishing the Parliament’s position. At different points in this process, committees and political groups of the Parliament can propose amendments to the text. Each amendment proposes one or more changes to the original document, either modifying, removing, or adding content. The Plenary then votes on amendments, either adopting or rejecting them.\n",
        "\n",
        "Once the Plenary has decided on all amendments, it votes on the final wording of the text. If the majority approves the text, it becomes the official position of the European Parliament. If not, the text is rejected."
      ]
    },
    {
      "cell_type": "markdown",
      "metadata": {
        "id": "ljA_CkomH1qx"
      },
      "source": [
        "## Finding all Votes on a Specific Text\n",
        "\n",
        "Throughout this tutorial, we will use Parliaments resolution condemning [The Russian aggression against Ukraine](https://howtheyvote.eu/votes/140111) from March 2022.\n",
        "\n",
        "As a first step, we need the `votes` table from the HowTheyVote.eu data set:"
      ]
    },
    {
      "cell_type": "code",
      "execution_count": null,
      "metadata": {
        "id": "da7W2nn-MLX3",
        "trusted": true
      },
      "outputs": [],
      "source": [
        "import pandas as pd\n",
        "\n",
        "votes_df = pd.read_csv('data/votes.csv')\n",
        "votes_df.head()"
      ]
    },
    {
      "cell_type": "markdown",
      "metadata": {
        "id": "UjDAJvApMrLx"
      },
      "source": [
        "The `votes` table contains one row for each vote that takes place in the Plenary. Therefore, there might be multiple rows for a given text. There are multiple fields in the `votes` table that we could use to identify all votes that belong to the same report, but we advise to use the `reference` column. It contains the official document reference for the report used by the Parliament.\n",
        "\n"
      ]
    },
    {
      "cell_type": "code",
      "execution_count": null,
      "metadata": {
        "id": "lpF8_Ig0MYOd",
        "trusted": true
      },
      "outputs": [],
      "source": [
        "report_subset = votes_df[votes_df['reference'] == 'B9-0123/2022'].copy()\n",
        "report_subset.head()"
      ]
    },
    {
      "cell_type": "code",
      "execution_count": null,
      "metadata": {
        "id": "yH8JYjMuOdUE",
        "trusted": true
      },
      "outputs": [],
      "source": [
        "len(report_subset)"
      ]
    },
    {
      "cell_type": "markdown",
      "metadata": {
        "id": "_gEWmkO4OzZ6"
      },
      "source": [
        "77 plenary votes took place concerned with this specific resolution. From the  `description` field, we can get a (very basic) first glance which part of the report each amendment targeted: For example, \"§ 3 - Am 4\" means that Amendment 4 contained changes to § 3 of the resolution."
      ]
    },
    {
      "cell_type": "markdown",
      "metadata": {
        "id": "GvAkKulQQC2h"
      },
      "source": [
        "As mentioned in the very beginning, after decising on the amendments, the final text will usually be voted on. This is indicated in our data schame by the `is_main` column. Therefore, the following will retrieve the vote on the final, unified version of the report:"
      ]
    },
    {
      "cell_type": "code",
      "execution_count": null,
      "metadata": {
        "id": "AWStjKkHOqh2",
        "trusted": true
      },
      "outputs": [],
      "source": [
        "report_subset[report_subset['is_main'] == True]"
      ]
    },
    {
      "cell_type": "markdown",
      "metadata": {
        "id": "bLnTFrV8JX7n"
      },
      "source": [
        "## Identifying Votes With a Close Margin"
      ]
    },
    {
      "cell_type": "markdown",
      "metadata": {
        "id": "CKEayYaDLFW_"
      },
      "source": [
        "In the columns `count_for`, `count_against`, `count_abstention`, and `count_did_not_vote` we can see the number of MEPs who voted in a specific way on the entirety of this text or who did not partook in the vote. In contrast to not voting at all, MEPs also have the option to actively vote abstain in each vote."
      ]
    },
    {
      "cell_type": "code",
      "execution_count": null,
      "metadata": {
        "id": "2s9tVr2mJjbg",
        "trusted": true
      },
      "outputs": [],
      "source": [
        "report_subset[report_subset['is_main'] == True][['reference'] + report_subset.filter(regex='^count').columns.tolist()]"
      ]
    },
    {
      "cell_type": "markdown",
      "metadata": {
        "id": "c8dUButsLy6h"
      },
      "source": [
        "Note, that this does not give us any information about which specific MEPs voted in which way."
      ]
    },
    {
      "cell_type": "markdown",
      "metadata": {
        "id": "mHPsBVfxlCQp"
      },
      "source": [
        "In order to identify the amendments that got accepted or rejected with a very close margin, we are interested in the difference between votes in favour and votes against. Note, that we calculate this on the basis of a simple majority in this tutorial, i.e., as long as more MEPs voted in favor than against an amendment, it is accepted. This is always true for amendments regarding resolutions.\n",
        "\n",
        "In cases where an amendment was accepted, this difference will be a positive number (as the number of votes in favour will be larger then that of votes against). However, when amendments are narrowly rejected, the opposite will be true, resulting in a negative number for the difference.\n",
        "\n",
        "As we are interested in narrow decisions in general, we will use the absolute difference between votes in favour and against."
      ]
    },
    {
      "cell_type": "code",
      "execution_count": null,
      "metadata": {
        "id": "K8gWLtuZk3h-",
        "trusted": true
      },
      "outputs": [],
      "source": [
        "report_subset['abs_diff_for_against'] = (report_subset['count_for'] - report_subset['count_against']).abs()\n",
        "report_subset[['reference', 'description', 'is_main', 'abs_diff_for_against']].sort_values(by='abs_diff_for_against').head(10)"
      ]
    },
    {
      "cell_type": "markdown",
      "metadata": {
        "id": "fANPqkNvpWKB"
      },
      "source": [
        "The closest amendment had an absolute difference of 19 votes against versus votes in favour. Although this seems not extremely close, we can also see a substantive difference between the first four votes, which all have margins below 40, and the following ones, which are close to differences of 100 votes and more.\n",
        "\n",
        "## Wrapping Up\n",
        "\n",
        "Identifying these close amendments can be a good starting point to figure out which parts of a text were most controversial in Parliament. Using the `votes` table, those can be identified quite fast, by finding all votes corresponding to a specific text and afterwards finding the narrowest of these decisions.\n",
        "\n",
        "With this information in hand it is now possible to continue with substantive research on the specific amendments, or to take a look at which MEPs and groups voted which way."
      ]
    },
    {
      "cell_type": "markdown",
      "metadata": {},
      "source": [
        "## Feedback?\n",
        "\n",
        "Was this tutorial helpful? Do you have any feedback for us how to further improve it? Do you have requests for specific tutorials we should provide in the future? Let us know by filling out [this (very short) form](https://tally.so/r/nrbogM)!"
      ]
    }
  ],
  "metadata": {
    "colab": {
      "provenance": [],
      "toc_visible": true
    },
    "kernelspec": {
      "display_name": "Python (Pyodide)",
      "language": "python",
      "name": "python"
    },
    "language_info": {
      "codemirror_mode": {
        "name": "python",
        "version": 3
      },
      "file_extension": ".py",
      "mimetype": "text/x-python",
      "name": "python",
      "nbconvert_exporter": "python",
      "pygments_lexer": "ipython3",
      "version": "3.8"
    }
  },
  "nbformat": 4,
  "nbformat_minor": 4
}
