{
  "metadata": {
    "kernelspec": {
      "name": "python",
      "display_name": "Python (Pyodide)",
      "language": "python"
    },
    "language_info": {
      "codemirror_mode": {
        "name": "python",
        "version": 3
      },
      "file_extension": ".py",
      "mimetype": "text/x-python",
      "name": "python",
      "nbconvert_exporter": "python",
      "pygments_lexer": "ipython3",
      "version": "3.8"
    },
    "colab": {
      "provenance": [],
      "toc_visible": true
    }
  },
  "nbformat_minor": 4,
  "nbformat": 4,
  "cells": [
    {
      "cell_type": "markdown",
      "source": "# Who votes more often with the right?\n\nWho votes with whom and which political groups form majorities in plenary votes is often of particular interest – not only to researchers, but also in public discourse.\n\nIn his July 2025 \"Summer Interview\" with German public broadcaster ARD, Friedrich Merz claimed that the Group of the Socialists and Democrats (S&D) had voted with right-wing groups more often than the Group of the European People’s Party (EPP).\nIn this tutorial, we will demonstrate how to fact-check this claim.\n\nTo follow along with the tutorial, you should already be familiar with data analysis in Python using the `pandas` package. You don’t need prior knowledge about the European Parliament.",
      "metadata": {
        "id": "BO2vOh8UMOmf"
      }
    },
    {
      "cell_type": "markdown",
      "source": "## Definitions\n\nThe trickiest part in conducting an analysis like this is defining what it means for a group \"to vote with another group\".\nWe propose to define the group position to be the majority position within a group. For example, the group position of a group where 10 MEPs voted in favor, 8 voted against, and 3 abstained is \"in favor\".\nFor any given vote, two groups are considered to have voted together if they share the same group position.\nNote that this does not necessarily imply that the vote is successful.\nWe decided on this approach, as Merz's statement did not mention majorities or a limitation to only successful vote, but instead referred only to groups voting with the right.\n\nFurthermore, Merz's statement referred to \"groups on the right\". We consider these to be the groups of the European Conservatives and Reformists (ECR), Patriots for Europe (PfE), and Europe of Sovereign Nations (ESN), as these are generally considered right of the EPP.\nWe will focus on the 10th parliamentary term, the term during which Merz made his claim. \n\nIn the following, we will calculate how often S&D and EPP shared the same group position with each of these right-wing groups.\n\n## Roll-call votes\n\nIt is important to keep in mind that only some of the votes in the European Parliament are roll-call votes.\nThe voting position of individual MEPs is only recorded and published in case of a roll-call vote.\nRoll-call votes are quite common in the European Parliament, but not ubiquitous. Naturally, for votes that are not cast by roll-call it is impossible for us (or anyone else) to know exactly which MEPs and groups voted similarly.\n\n## Overview\n\nWe will follow these steps:\n\n1. Find all votes which took place during the 10th term of Parliament and exclude some special cases like votes on the agenda.\n2. For each vote, construct a table in which we sum up the votes per group per position. This will result in a table where we have one row per vote-group-position combination, and the number of MEPs who voted that way.\n3. Using this table, we can find which position per vote was most common among MEPs of each group - this is the group position.\n4. We will then construct a table with only a single row per vote and a column per group containing the group position.\n5. Finally, we can compare the columns, allowing us to count how often two given groups shared the same group position.\n\n## Step 1: Filtering for relevant votes",
      "metadata": {}
    },
    {
      "cell_type": "code",
      "source": "import pandas as pd\n\n# The votes table contains one row per roll-call vote\nvotes_df = pd.read_csv('data/votes.csv')\nvotes_df.head()",
      "metadata": {
        "id": "da7W2nn-MLX3",
        "trusted": true
      },
      "outputs": [],
      "execution_count": null
    },
    {
      "cell_type": "code",
      "source": "votes_df['timestamp'] = pd.to_datetime(votes_df['timestamp'], format='ISO8601')\n\n# Filter votes keeping only votes during the 10th term and before Merz's statement\nmask_time = (votes_df[\"timestamp\"] >= \"2024-07-16\") & (votes_df[\"timestamp\"] <= \"2025-07-13\")\nvotes_subset = votes_df[mask_time]\n\n# Filter votes to exclude special cases like votes on the agenda\nexclude_pattern = \"Ordre du jour|Demande du group|Demande des groupes|Request from the\"\nmask_title = votes_subset['display_title'].str.contains(exclude_pattern)\nvotes_subset = votes_subset[~mask_title]\nvotes_subset.head()",
      "metadata": {
        "trusted": true
      },
      "outputs": [],
      "execution_count": null
    },
    {
      "cell_type": "markdown",
      "source": "## Step 2: Aggregating by group, vote, and position",
      "metadata": {}
    },
    {
      "cell_type": "markdown",
      "source": "The `votes` table does not contain information about the individual votes of MEPs. This information can be found in the `member_votes` table. This table contains one row per vote and MEP, with columns for their vote position, group membership at the time of the vote, and nationality.",
      "metadata": {}
    },
    {
      "cell_type": "code",
      "source": "member_votes_df = pd.read_csv('data/member_votes.csv')\nmember_votes_df.head()",
      "metadata": {
        "trusted": true
      },
      "outputs": [],
      "execution_count": null
    },
    {
      "cell_type": "markdown",
      "source": "We use a filtering join with the `votes_subset` dataframe to only keep member votes related to the subset of votes we selected previously:",
      "metadata": {}
    },
    {
      "cell_type": "code",
      "source": "member_votes_subset = member_votes_df[member_votes_df[\"vote_id\"].isin(votes_subset[\"id\"])]\nmember_votes_subset.head()",
      "metadata": {
        "id": "AWStjKkHOqh2",
        "trusted": true
      },
      "outputs": [],
      "execution_count": null
    },
    {
      "cell_type": "markdown",
      "source": "Before aggregating by group and position, we can exclude a lot of rows from the `member_votes` table. As we are only interested in the voting behavior of the EPP and S&D groups as well as the three right-wing groups, we can exclude all rows related to MEPs of other groups.",
      "metadata": {}
    },
    {
      "cell_type": "code",
      "source": "member_votes_subset = member_votes_subset[member_votes_subset[\"group_code\"].isin([\"EPP\", \"SD\", \"ECR\", \"PFE\", \"ESN\"])]\nmember_votes_subset.head()",
      "metadata": {
        "trusted": true
      },
      "outputs": [],
      "execution_count": null
    },
    {
      "cell_type": "markdown",
      "source": "Next, we construct a table with one row per vote-group-position combination and the number of MEPs corresponding to each of these combinations.\nTechnically, this comes down to grouping by the `vote_id`, `group_code`, and `position` columns, and then adding the size of the group as a new column.",
      "metadata": {}
    },
    {
      "cell_type": "code",
      "source": "group_counts = member_votes_subset \\\n    .groupby([\"vote_id\", \"group_code\", \"position\"]) \\\n    .size() \\\n    .reset_index(name=\"count\")\n\ngroup_counts",
      "metadata": {
        "trusted": true
      },
      "outputs": [],
      "execution_count": null
    },
    {
      "cell_type": "markdown",
      "source": "## Step 3: Identifying group positions",
      "metadata": {}
    },
    {
      "cell_type": "markdown",
      "source": "Next, we want to identify the majority position within each group.\nThe code below achieves this by first sorting by number of MEPs in ascending order, so that the vote-group-position combination with the highest number of MEPs comes first. It then removes duplicates based on vote-group combinations, leaving only the first entry per vote-group combination – which represents the group position.",
      "metadata": {}
    },
    {
      "cell_type": "code",
      "source": "group_position = group_counts \\\n    .sort_values(\"count\", ascending=False) \\\n    .drop_duplicates(subset=[\"vote_id\",\"group_code\"])\n\ngroup_position",
      "metadata": {
        "trusted": true
      },
      "outputs": [],
      "execution_count": null
    },
    {
      "cell_type": "markdown",
      "source": "## Step 4: Pivoting\n\nAs a last step, we will pivot this table, resulting in a single row per vote, and one column per group containing the group position.",
      "metadata": {}
    },
    {
      "cell_type": "code",
      "source": "group_position_comparison = (\n    group_position\n    .pivot(index=\"vote_id\", columns=\"group_code\", values=\"position\")\n    .reset_index()\n)\ngroup_position_comparison",
      "metadata": {
        "trusted": true
      },
      "outputs": [],
      "execution_count": null
    },
    {
      "cell_type": "markdown",
      "source": "## Step 5: Comparing group positions\n\nWe can now easily compare the group positions of the EPP and S&D groups with each of the three right-wing group, starting with the ESN group.\nWe will add two separate boolean columns indicating whether the ESN’s group position was the same as the S&D and EPP group position, respectively.",
      "metadata": {}
    },
    {
      "cell_type": "code",
      "source": "group_position_comparison[\"EPP_equals_ESN\"] = group_position_comparison[\"EPP\"] == group_position_comparison[\"ESN\"]\ngroup_position_comparison[\"SD_equals_ESN\"]  = group_position_comparison[\"SD\"]  == group_position_comparison[\"ESN\"]",
      "metadata": {
        "trusted": true
      },
      "outputs": [],
      "execution_count": null
    },
    {
      "cell_type": "markdown",
      "source": "To find out whether the EPP or S&D group voted more often with the ESN group, we can simply count the number of `True` values in each column.",
      "metadata": {}
    },
    {
      "cell_type": "code",
      "source": "sum(group_position_comparison[\"EPP_equals_ESN\"])",
      "metadata": {
        "trusted": true
      },
      "outputs": [],
      "execution_count": null
    },
    {
      "cell_type": "code",
      "source": "sum(group_position_comparison[\"SD_equals_ESN\"])",
      "metadata": {
        "trusted": true
      },
      "outputs": [],
      "execution_count": null
    },
    {
      "cell_type": "markdown",
      "source": "In the 10th term of the European Parliament, the EPP voted with the ESN group more often than the S&D group.\n\nNext, we compare the EPP and S&D groups with the PfE group:",
      "metadata": {}
    },
    {
      "cell_type": "code",
      "source": "group_position_comparison[\"EPP_equals_PFE\"] = group_position_comparison[\"EPP\"] == group_position_comparison[\"PFE\"]\ngroup_position_comparison[\"SD_equals_PFE\"]  = group_position_comparison[\"SD\"]  == group_position_comparison[\"PFE\"]",
      "metadata": {
        "trusted": true
      },
      "outputs": [],
      "execution_count": null
    },
    {
      "cell_type": "code",
      "source": "sum(group_position_comparison[\"EPP_equals_PFE\"])",
      "metadata": {
        "trusted": true
      },
      "outputs": [],
      "execution_count": null
    },
    {
      "cell_type": "code",
      "source": "sum(group_position_comparison[\"SD_equals_PFE\"])",
      "metadata": {
        "trusted": true
      },
      "outputs": [],
      "execution_count": null
    },
    {
      "cell_type": "markdown",
      "source": "Again, the EPP voted with the PfE group more often than the S&D group.\n\nFinally, we compare both groups with the ECR group:",
      "metadata": {}
    },
    {
      "cell_type": "code",
      "source": "group_position_comparison[\"EPP_equals_ECR\"] = group_position_comparison[\"EPP\"] == group_position_comparison[\"ECR\"]\ngroup_position_comparison[\"SD_equals_ECR\"]  = group_position_comparison[\"SD\"]  == group_position_comparison[\"ECR\"]",
      "metadata": {
        "trusted": true
      },
      "outputs": [],
      "execution_count": null
    },
    {
      "cell_type": "code",
      "source": "sum(group_position_comparison[\"EPP_equals_ECR\"])",
      "metadata": {
        "trusted": true
      },
      "outputs": [],
      "execution_count": null
    },
    {
      "cell_type": "code",
      "source": "sum(group_position_comparison[\"SD_equals_ECR\"])",
      "metadata": {
        "trusted": true
      },
      "outputs": [],
      "execution_count": null
    },
    {
      "cell_type": "markdown",
      "source": "Again, the EPP group voted more often with the ECR group than the S&D group.\n\n## Conclusion\n\nConsidering only roll-call votes of the 10th term of the European Parliament, the EPP voted together with right-wing groups more often than the S&D group. To the extent Merz's claim is verifiable, it is false.",
      "metadata": {}
    }
  ]
}